{
  "nbformat": 4,
  "nbformat_minor": 0,
  "metadata": {
    "colab": {
      "name": "DeepMusic.ipynb",
      "version": "0.3.2",
      "provenance": [],
      "collapsed_sections": []
    },
    "kernelspec": {
      "name": "python3",
      "display_name": "Python 3"
    },
    "accelerator": "GPU"
  },
  "cells": [
    {
      "cell_type": "code",
      "metadata": {
        "id": "cIlyW1m_rloV",
        "colab_type": "code",
        "outputId": "b848cb7c-7e38-44a5-ea47-e0432a0ea15c",
        "colab": {
          "base_uri": "https://localhost:8080/",
          "height": 124
        }
      },
      "source": [
        "from google.colab import drive\n",
        "drive.mount('/content/drive')"
      ],
      "execution_count": 1,
      "outputs": [
        {
          "output_type": "stream",
          "text": [
            "Go to this URL in a browser: https://accounts.google.com/o/oauth2/auth?client_id=947318989803-6bn6qk8qdgf4n4g3pfee6491hc0brc4i.apps.googleusercontent.com&redirect_uri=urn%3Aietf%3Awg%3Aoauth%3A2.0%3Aoob&scope=email%20https%3A%2F%2Fwww.googleapis.com%2Fauth%2Fdocs.test%20https%3A%2F%2Fwww.googleapis.com%2Fauth%2Fdrive%20https%3A%2F%2Fwww.googleapis.com%2Fauth%2Fdrive.photos.readonly%20https%3A%2F%2Fwww.googleapis.com%2Fauth%2Fpeopleapi.readonly&response_type=code\n",
            "\n",
            "Enter your authorization code:\n",
            "··········\n",
            "Mounted at /content/drive\n"
          ],
          "name": "stdout"
        }
      ]
    },
    {
      "cell_type": "code",
      "metadata": {
        "id": "Z60ohBNZrm8y",
        "colab_type": "code",
        "colab": {
          "base_uri": "https://localhost:8080/",
          "height": 35
        },
        "outputId": "be35a29c-c703-4c9e-be67-e59022eadab3"
      },
      "source": [
        "import pandas as pd\n",
        "import numpy as np\n",
        "from music21 import converter, midi, note, chord, pitch, instrument, stream\n",
        "from keras.models import Sequential, load_model\n",
        "from keras.layers import LSTM, Dropout, Dense, Activation, Embedding, Flatten\n",
        "import pickle\n",
        "from keras.utils import to_categorical\n",
        "import pickle"
      ],
      "execution_count": 2,
      "outputs": [
        {
          "output_type": "stream",
          "text": [
            "Using TensorFlow backend.\n"
          ],
          "name": "stderr"
        }
      ]
    },
    {
      "cell_type": "code",
      "metadata": {
        "id": "DM4uiH3ar9sK",
        "colab_type": "code",
        "colab": {}
      },
      "source": [
        "data = pd.read_csv(\"drive/My Drive/maestro-v2.0.0/maestro-v2.0.0.csv\")"
      ],
      "execution_count": 0,
      "outputs": []
    },
    {
      "cell_type": "code",
      "metadata": {
        "id": "ih89uOy6sBGO",
        "colab_type": "code",
        "colab": {}
      },
      "source": [
        "def get_notes_chords_rests(path):\n",
        "    file = converter.parse(path)\n",
        "    components = []\n",
        "    for element in file.recurse():\n",
        "        if isinstance(element, note.Note):\n",
        "            components.append(str(element.pitch))\n",
        "        elif isinstance(element, chord.Chord):\n",
        "            components.append('.'.join(str(n) for n in element.normalOrder))\n",
        "        elif isinstance(element, note.Rest):\n",
        "            components.append(\"Rest\")\n",
        "\n",
        "    return components"
      ],
      "execution_count": 0,
      "outputs": []
    },
    {
      "cell_type": "code",
      "metadata": {
        "id": "XFEWxenmsCIa",
        "colab_type": "code",
        "outputId": "9d083788-42be-4ca4-96c9-ceaa39941cf6",
        "colab": {
          "base_uri": "https://localhost:8080/",
          "height": 191
        }
      },
      "source": [
        "a = []\n",
        "count = 0\n",
        "for i in range(10):\n",
        "  print(\"{}% Done\".format(i*10))\n",
        "  a.append(get_notes_chords_rests(\"drive/My Drive/maestro-v2.0.0/\" + data[\"midi_filename\"][i]))"
      ],
      "execution_count": 5,
      "outputs": [
        {
          "output_type": "stream",
          "text": [
            "0% Done\n",
            "10% Done\n",
            "20% Done\n",
            "30% Done\n",
            "40% Done\n",
            "50% Done\n",
            "60% Done\n",
            "70% Done\n",
            "80% Done\n",
            "90% Done\n"
          ],
          "name": "stdout"
        }
      ]
    },
    {
      "cell_type": "code",
      "metadata": {
        "id": "Cb-jXXMTsD6H",
        "colab_type": "code",
        "colab": {}
      },
      "source": [
        "notes = [j for element in a for j in element]"
      ],
      "execution_count": 0,
      "outputs": []
    },
    {
      "cell_type": "code",
      "metadata": {
        "id": "KsKhlM-rsD8t",
        "colab_type": "code",
        "colab": {}
      },
      "source": [
        "def Sequences(notes): \n",
        "    seqL = 100\n",
        "    unique_char = len(set(notes)) \n",
        "    pitchnames = sorted(set(item for item in notes))\n",
        "    note_to_int = dict((note, number) for number, note in enumerate(pitchnames))\n",
        "    network_input = []\n",
        "    network_output = []\n",
        "    for i in range(0, len(notes) - seqL):\n",
        "        sequence_in = notes[i: i + seqL]\n",
        "        sequence_out = notes[i + seqL]\n",
        "        network_input.append([note_to_int[char] for char in sequence_in])\n",
        "        network_output.append(note_to_int[sequence_out])\n",
        "    n_patterns = len(network_input)\n",
        "    network_input = np.reshape(network_input, (n_patterns, seqL, 1))\n",
        "    network_input = network_input / float(unique_char)\n",
        "    network_output = to_categorical(network_output)\n",
        "    return (network_input, network_output)"
      ],
      "execution_count": 0,
      "outputs": []
    },
    {
      "cell_type": "code",
      "metadata": {
        "id": "dKO5w9xRsD_k",
        "colab_type": "code",
        "colab": {}
      },
      "source": [
        "def Normal_LSTM_Model(network_in, unique_char): \n",
        "    model = Sequential()\n",
        "    model.add(LSTM(128, input_shape=network_in.shape[1:], return_sequences=True))\n",
        "    model.add(Dropout(0.2))\n",
        "    model.add(LSTM(128, return_sequences=True))\n",
        "    model.add(Flatten())\n",
        "    model.add(Dense(256))\n",
        "    model.add(Dropout(0.3))\n",
        "    model.add(Dense(unique_char))\n",
        "    model.add(Activation('softmax'))\n",
        "    model.compile(loss='categorical_crossentropy', optimizer='adam', metrics = [\"accuracy\"])\n",
        "\n",
        "    return model "
      ],
      "execution_count": 0,
      "outputs": []
    },
    {
      "cell_type": "code",
      "metadata": {
        "id": "Xze6guBqsEB_",
        "colab_type": "code",
        "colab": {}
      },
      "source": [
        "from keras.callbacks import ModelCheckpoint     \n",
        "def train_network(notes, epochs = 10):\n",
        "    unique_char = len(set(notes))\n",
        "    network_input, network_output = Sequences(notes) \n",
        "#     model = Normal_LSTM_Model(network_input, unique_char)\n",
        "    model = load_model('drive/My Drive/Trained_70_Epochs.hdf5')\n",
        "    print(\"Model loaded\")\n",
        "    print('Training in progress')\n",
        "    filepath = 'drive/My Drive/Trained_70_Epochs.hdf5'  \n",
        "    checkpoint = ModelCheckpoint(filepath, monitor='loss', verbose=0, save_best_only=True)\n",
        "    model.fit(network_input, network_output, epochs=epochs, batch_size=32, callbacks=[checkpoint]) \n",
        "    print('Training completed') \n",
        "    return model  "
      ],
      "execution_count": 0,
      "outputs": []
    },
    {
      "cell_type": "code",
      "metadata": {
        "id": "akeeUbmzsEEv",
        "colab_type": "code",
        "outputId": "1c329108-11b5-4ad7-8a3f-7e8ee9bb1b67",
        "colab": {
          "base_uri": "https://localhost:8080/",
          "height": 763
        }
      },
      "source": [
        "### Train the model \n",
        "\n",
        "model  = train_network(notes, 20)"
      ],
      "execution_count": 14,
      "outputs": [
        {
          "output_type": "stream",
          "text": [
            "Model loaded\n",
            "Training in progress\n",
            "Epoch 1/20\n",
            "27064/27064 [==============================] - 316s 12ms/step - loss: 0.2082 - acc: 0.9420\n",
            "Epoch 2/20\n",
            "27064/27064 [==============================] - 317s 12ms/step - loss: 0.2129 - acc: 0.9411\n",
            "Epoch 3/20\n",
            "27064/27064 [==============================] - 316s 12ms/step - loss: 0.1915 - acc: 0.9475\n",
            "Epoch 4/20\n",
            "27064/27064 [==============================] - 315s 12ms/step - loss: 0.1801 - acc: 0.9500\n",
            "Epoch 5/20\n",
            "27064/27064 [==============================] - 317s 12ms/step - loss: 0.1985 - acc: 0.9458\n",
            "Epoch 6/20\n",
            "27064/27064 [==============================] - 314s 12ms/step - loss: 0.1784 - acc: 0.9507\n",
            "Epoch 7/20\n",
            "27064/27064 [==============================] - 316s 12ms/step - loss: 0.1785 - acc: 0.9527\n",
            "Epoch 8/20\n",
            "27064/27064 [==============================] - 315s 12ms/step - loss: 0.1728 - acc: 0.9519\n",
            "Epoch 9/20\n",
            "27064/27064 [==============================] - 315s 12ms/step - loss: 0.1630 - acc: 0.9547\n",
            "Epoch 10/20\n",
            "27064/27064 [==============================] - 315s 12ms/step - loss: 0.1692 - acc: 0.9540\n",
            "Epoch 11/20\n",
            "27064/27064 [==============================] - 315s 12ms/step - loss: 0.1642 - acc: 0.9542\n",
            "Epoch 12/20\n",
            "27064/27064 [==============================] - 315s 12ms/step - loss: 0.1634 - acc: 0.9560\n",
            "Epoch 13/20\n",
            "27064/27064 [==============================] - 313s 12ms/step - loss: 0.1653 - acc: 0.9578\n",
            "Epoch 14/20\n",
            "27064/27064 [==============================] - 317s 12ms/step - loss: 0.1548 - acc: 0.9591\n",
            "Epoch 15/20\n",
            "27064/27064 [==============================] - 317s 12ms/step - loss: 0.1557 - acc: 0.9586\n",
            "Epoch 16/20\n",
            "27064/27064 [==============================] - 316s 12ms/step - loss: 0.1449 - acc: 0.9631\n",
            "Epoch 17/20\n",
            "27064/27064 [==============================] - 315s 12ms/step - loss: 0.1496 - acc: 0.9611\n",
            "Epoch 18/20\n",
            "27064/27064 [==============================] - 314s 12ms/step - loss: 0.1403 - acc: 0.9635\n",
            "Epoch 19/20\n",
            "27064/27064 [==============================] - 316s 12ms/step - loss: 0.1400 - acc: 0.9640\n",
            "Epoch 20/20\n",
            "27064/27064 [==============================] - 316s 12ms/step - loss: 0.1303 - acc: 0.9653\n",
            "Training completed\n"
          ],
          "name": "stdout"
        }
      ]
    },
    {
      "cell_type": "code",
      "metadata": {
        "id": "3jsGmOAGsEHV",
        "colab_type": "code",
        "colab": {}
      },
      "source": [
        "def generate_notes(model, network_input, pitchnames, unique_char):\n",
        "    start = np.random.randint(0, len(network_input)-1)\n",
        "    int_to_note = dict((number, note) for number, note in enumerate(pitchnames))\n",
        "    pattern = network_input[start]\n",
        "    prediction_output = []\n",
        "    print('Generating notes........')\n",
        "    i = 1\n",
        "    for note_index in range(500):\n",
        "        if note_index%50 ==0:\n",
        "          print(\"{}% Done\".format(i*10))\n",
        "          i += 1\n",
        "        prediction_input = np.reshape(pattern, (1, len(pattern), 1))\n",
        "        prediction_input = prediction_input / float(unique_char)\n",
        "        prediction = model.predict(prediction_input, verbose=0)\n",
        "        index = np.argmax(prediction)\n",
        "        result = int_to_note[index]\n",
        "        prediction_output.append(result)\n",
        "        pattern = list(pattern)\n",
        "        pattern.append(index)\n",
        "        pattern = pattern[1:len(pattern)]\n",
        "\n",
        "    print('Notes Generated...')\n",
        "    return prediction_output"
      ],
      "execution_count": 0,
      "outputs": []
    },
    {
      "cell_type": "code",
      "metadata": {
        "id": "ssv8Xl1-sEMU",
        "colab_type": "code",
        "outputId": "cf390de2-673b-45ff-9500-c25f4d4c1ca0",
        "colab": {
          "base_uri": "https://localhost:8080/",
          "height": 225
        }
      },
      "source": [
        "unique_char = len(set(notes))\n",
        "network_input, _ = Sequences(notes)\n",
        "pitchnames = sorted(set(item for item in notes))\n",
        "prediction_output = generate_notes(model, network_input, pitchnames, unique_char)"
      ],
      "execution_count": 16,
      "outputs": [
        {
          "output_type": "stream",
          "text": [
            "Generating notes........\n",
            "10% Done\n",
            "20% Done\n",
            "30% Done\n",
            "40% Done\n",
            "50% Done\n",
            "60% Done\n",
            "70% Done\n",
            "80% Done\n",
            "90% Done\n",
            "100% Done\n",
            "Notes Generated...\n"
          ],
          "name": "stdout"
        }
      ]
    },
    {
      "cell_type": "code",
      "metadata": {
        "id": "NTSkGWcHsEPY",
        "colab_type": "code",
        "colab": {}
      },
      "source": [
        "def create_midi(prediction_output):\n",
        "    offset = 0\n",
        "    output_notes = []\n",
        "    for pattern in prediction_output:\n",
        "        if ('.' in pattern) or pattern.isdigit():\n",
        "            notes_in_chord = pattern.split('.')\n",
        "            notes = []\n",
        "            for current_note in notes_in_chord:\n",
        "                new_note = note.Note(int(current_note))\n",
        "                new_note.storedInstrument = instrument.Piano()\n",
        "                notes.append(new_note)\n",
        "            new_chord = chord.Chord(notes)\n",
        "            new_chord.offset = offset\n",
        "            output_notes.append(new_chord)\n",
        "        elif pattern == \"Rest\":\n",
        "            new_note = note.Rest(pattern)\n",
        "            new_note.offset = offset\n",
        "            new_note.storedInstrument = instrument.Piano()\n",
        "            output_notes.append(new_note)\n",
        "        else:\n",
        "            new_note = note.Note(pattern)\n",
        "            new_note.offset = offset\n",
        "            new_note.storedInstrument = instrument.Piano()\n",
        "            output_notes.append(new_note)\n",
        "\n",
        "        # increase offset each iteration so that notes do not stack\n",
        "        offset += 0.5\n",
        "\n",
        "    midi_stream = stream.Stream(output_notes)\n",
        "    \n",
        "    print('Saving Output file as midi....')\n",
        "\n",
        "    midi_stream.write('midi', fp='/content/drive/My Drive/output70Epochs10Songs.mid')"
      ],
      "execution_count": 0,
      "outputs": []
    },
    {
      "cell_type": "code",
      "metadata": {
        "id": "oVYCC0lRApw4",
        "colab_type": "code",
        "colab": {
          "base_uri": "https://localhost:8080/",
          "height": 35
        },
        "outputId": "d21b71ff-4ad2-4d07-d4a9-8f30e9c058bf"
      },
      "source": [
        "create_midi(prediction_output)"
      ],
      "execution_count": 19,
      "outputs": [
        {
          "output_type": "stream",
          "text": [
            "Saving Output file as midi....\n"
          ],
          "name": "stdout"
        }
      ]
    },
    {
      "cell_type": "code",
      "metadata": {
        "id": "QZdOjMIsA4gq",
        "colab_type": "code",
        "colab": {}
      },
      "source": [
        ""
      ],
      "execution_count": 0,
      "outputs": []
    }
  ]
}