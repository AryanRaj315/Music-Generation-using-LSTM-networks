{
  "nbformat": 4,
  "nbformat_minor": 0,
  "metadata": {
    "colab": {
      "name": "Music_GEneration_LSTM.ipynb",
      "version": "0.3.2",
      "provenance": [],
      "collapsed_sections": []
    },
    "kernelspec": {
      "name": "python3",
      "display_name": "Python 3"
    },
    "accelerator": "GPU"
  },
  "cells": [
    {
      "cell_type": "code",
      "metadata": {
        "id": "cIlyW1m_rloV",
        "colab_type": "code",
        "outputId": "cfd243ea-4357-48ee-fcca-db982a96ff8e",
        "colab": {
          "base_uri": "https://localhost:8080/",
          "height": 55
        }
      },
      "source": [
        "from google.colab import drive\n",
        "drive.mount('/content/drive')"
      ],
      "execution_count": 20,
      "outputs": [
        {
          "output_type": "stream",
          "text": [
            "Drive already mounted at /content/drive; to attempt to forcibly remount, call drive.mount(\"/content/drive\", force_remount=True).\n"
          ],
          "name": "stdout"
        }
      ]
    },
    {
      "cell_type": "code",
      "metadata": {
        "id": "Z60ohBNZrm8y",
        "colab_type": "code",
        "colab": {}
      },
      "source": [
        "import pandas as pd\n",
        "import numpy as np\n",
        "from music21 import converter, midi, note, chord, pitch, instrument, stream\n",
        "from keras.models import Sequential, load_model\n",
        "from keras.layers import LSTM, Dropout, Dense, Activation, Embedding, Flatten\n",
        "import pickle\n",
        "from keras.utils import to_categorical\n",
        "import pickle"
      ],
      "execution_count": 0,
      "outputs": []
    },
    {
      "cell_type": "markdown",
      "metadata": {
        "id": "b8yX23KzgtAR",
        "colab_type": "text"
      },
      "source": [
        "MAESTRO (MIDI and Audio Edited for Synchronous TRacks and Organization) Dataset"
      ]
    },
    {
      "cell_type": "code",
      "metadata": {
        "id": "DM4uiH3ar9sK",
        "colab_type": "code",
        "colab": {}
      },
      "source": [
        "data = pd.read_csv(\"drive/My Drive/maestro-v2.0.0/maestro-v2.0.0.csv\")"
      ],
      "execution_count": 0,
      "outputs": []
    },
    {
      "cell_type": "markdown",
      "metadata": {
        "id": "hT9GyChFhErn",
        "colab_type": "text"
      },
      "source": [
        "# Converting midi files to a list of notes, chords and rest sequences"
      ]
    },
    {
      "cell_type": "code",
      "metadata": {
        "id": "ih89uOy6sBGO",
        "colab_type": "code",
        "colab": {}
      },
      "source": [
        "def getComponents(path):\n",
        "    file = converter.parse(path)\n",
        "    components = []\n",
        "    for element in file.recurse():\n",
        "        if isinstance(element, note.Note):\n",
        "            components.append(str(element.pitch))\n",
        "        elif isinstance(element, chord.Chord):\n",
        "            components.append('.'.join(str(n) for n in element.normalOrder))\n",
        "        elif isinstance(element, note.Rest):\n",
        "            components.append(\"Rest\")\n",
        "\n",
        "    return components"
      ],
      "execution_count": 0,
      "outputs": []
    },
    {
      "cell_type": "markdown",
      "metadata": {
        "id": "3Diq62Ivg8PW",
        "colab_type": "text"
      },
      "source": [
        "Creating a list for notes, chords and rest for 10 songs "
      ]
    },
    {
      "cell_type": "code",
      "metadata": {
        "id": "XFEWxenmsCIa",
        "colab_type": "code",
        "outputId": "bf9535d1-0fcd-4cd8-ff36-12cfb8aec686",
        "colab": {
          "base_uri": "https://localhost:8080/",
          "height": 191
        }
      },
      "source": [
        "a = []\n",
        "count = 0\n",
        "for i in range(10):\n",
        "  print(\"{}% Done\".format(i*10))\n",
        "  a.append(getComponents(\"drive/My Drive/maestro-v2.0.0/\" + data[\"midi_filename\"][i]))"
      ],
      "execution_count": 24,
      "outputs": [
        {
          "output_type": "stream",
          "text": [
            "0% Done\n",
            "10% Done\n",
            "20% Done\n",
            "30% Done\n",
            "40% Done\n",
            "50% Done\n",
            "60% Done\n",
            "70% Done\n",
            "80% Done\n",
            "90% Done\n"
          ],
          "name": "stdout"
        }
      ]
    },
    {
      "cell_type": "markdown",
      "metadata": {
        "id": "L-VlKsRjhZs6",
        "colab_type": "text"
      },
      "source": [
        "Stacking the sequences into a single list"
      ]
    },
    {
      "cell_type": "code",
      "metadata": {
        "id": "Cb-jXXMTsD6H",
        "colab_type": "code",
        "colab": {}
      },
      "source": [
        "notes = [j for element in a for j in element]"
      ],
      "execution_count": 0,
      "outputs": []
    },
    {
      "cell_type": "markdown",
      "metadata": {
        "id": "U0-aX-Lfhlke",
        "colab_type": "text"
      },
      "source": [
        "# Creating a list of 100 sequences which will be fed to the model for training"
      ]
    },
    {
      "cell_type": "code",
      "metadata": {
        "id": "KsKhlM-rsD8t",
        "colab_type": "code",
        "colab": {}
      },
      "source": [
        "def Sequences(notes): \n",
        "    seqL = 100\n",
        "    unique_char = len(set(notes)) \n",
        "    pitchnames = sorted(set(item for item in notes))\n",
        "    note_to_int = dict((note, number) for number, note in enumerate(pitchnames))\n",
        "    network_input = []\n",
        "    network_output = []\n",
        "    for i in range(0, len(notes) - seqL):\n",
        "        sequence_in = notes[i: i + seqL]\n",
        "        sequence_out = notes[i + seqL]\n",
        "        network_input.append([note_to_int[char] for char in sequence_in])\n",
        "        network_output.append(note_to_int[sequence_out])\n",
        "    n_patterns = len(network_input)\n",
        "    network_input = np.reshape(network_input, (n_patterns, seqL, 1))\n",
        "    network_input = network_input / float(unique_char)\n",
        "    network_output = to_categorical(network_output)\n",
        "    return (network_input, network_output)"
      ],
      "execution_count": 0,
      "outputs": []
    },
    {
      "cell_type": "markdown",
      "metadata": {
        "id": "zAFSmc5Nhzpm",
        "colab_type": "text"
      },
      "source": [
        "# Model"
      ]
    },
    {
      "cell_type": "code",
      "metadata": {
        "id": "dKO5w9xRsD_k",
        "colab_type": "code",
        "colab": {}
      },
      "source": [
        "def Normal_LSTM_Model(network_in, unique_char): \n",
        "    model = Sequential()\n",
        "    model.add(LSTM(128, input_shape=network_in.shape[1:], return_sequences=True))\n",
        "    model.add(Dropout(0.2))\n",
        "    model.add(LSTM(128, return_sequences=True))\n",
        "    model.add(Flatten())\n",
        "    model.add(Dense(256))\n",
        "    model.add(Dropout(0.3))\n",
        "    model.add(Dense(unique_char))\n",
        "    model.add(Activation('softmax'))\n",
        "    model.compile(loss='categorical_crossentropy', optimizer='adam', metrics = [\"accuracy\"])\n",
        "\n",
        "    return model "
      ],
      "execution_count": 0,
      "outputs": []
    },
    {
      "cell_type": "markdown",
      "metadata": {
        "id": "94nbSsvWh5Qk",
        "colab_type": "text"
      },
      "source": [
        "# Training"
      ]
    },
    {
      "cell_type": "code",
      "metadata": {
        "id": "Xze6guBqsEB_",
        "colab_type": "code",
        "colab": {}
      },
      "source": [
        "from keras.callbacks import ModelCheckpoint     \n",
        "def train_network(notes, epochs = 10):\n",
        "    unique_char = len(set(notes))\n",
        "    network_input, network_output = Sequences(notes) \n",
        "#     model = Normal_LSTM_Model(network_input, unique_char)\n",
        "    model = load_model('drive/My Drive/Trained_70_Epochs.hdf5')\n",
        "    print(\"Model loaded\")\n",
        "    print('Training in progress')\n",
        "    filepath = 'drive/My Drive/Trained_70_Epochs.hdf5'  \n",
        "    checkpoint = ModelCheckpoint(filepath, monitor='loss', verbose=0, save_best_only=True)\n",
        "    model.fit(network_input, network_output, epochs=epochs, batch_size=32, callbacks=[checkpoint]) \n",
        "    print('Training completed') \n",
        "    return model  "
      ],
      "execution_count": 0,
      "outputs": []
    },
    {
      "cell_type": "code",
      "metadata": {
        "id": "akeeUbmzsEEv",
        "colab_type": "code",
        "outputId": "113a54a7-e277-49c6-fb0f-d3862fe9d6fc",
        "colab": {
          "base_uri": "https://localhost:8080/",
          "height": 243
        }
      },
      "source": [
        "model  = train_network(notes, 5)"
      ],
      "execution_count": 29,
      "outputs": [
        {
          "output_type": "stream",
          "text": [
            "Model loaded\n",
            "Training in progress\n",
            "Epoch 1/5\n",
            "27064/27064 [==============================] - 317s 12ms/step - loss: 0.1444 - acc: 0.9641\n",
            "Epoch 2/5\n",
            "27064/27064 [==============================] - 315s 12ms/step - loss: 0.1448 - acc: 0.9631\n",
            "Epoch 3/5\n",
            "27064/27064 [==============================] - 316s 12ms/step - loss: 0.1451 - acc: 0.9622\n",
            "Epoch 4/5\n",
            "27064/27064 [==============================] - 314s 12ms/step - loss: 0.1422 - acc: 0.9643\n",
            "Epoch 5/5\n",
            "27064/27064 [==============================] - 315s 12ms/step - loss: 0.1493 - acc: 0.9631\n",
            "Training completed\n"
          ],
          "name": "stdout"
        }
      ]
    },
    {
      "cell_type": "markdown",
      "metadata": {
        "id": "gTiaouTxiIfc",
        "colab_type": "text"
      },
      "source": [
        "# Converting model output into midi notes, chords and rest format"
      ]
    },
    {
      "cell_type": "code",
      "metadata": {
        "id": "3jsGmOAGsEHV",
        "colab_type": "code",
        "colab": {}
      },
      "source": [
        "def generate_notes(model, network_input, pitchnames, unique_char):\n",
        "    start = np.random.randint(0, len(network_input)-1)\n",
        "    int_to_note = dict((number, note) for number, note in enumerate(pitchnames))\n",
        "    pattern = network_input[start]\n",
        "    prediction_output = []\n",
        "    print('Generating')\n",
        "    i = 1\n",
        "    for note_index in range(500):\n",
        "        if note_index%50 ==0:\n",
        "          print(\"{}% Done\".format(i*10))\n",
        "          i += 1\n",
        "        prediction_input = np.reshape(pattern, (1, len(pattern), 1))\n",
        "        prediction_input = prediction_input / float(unique_char)\n",
        "        prediction = model.predict(prediction_input, verbose=0)\n",
        "        index = np.argmax(prediction)\n",
        "        result = int_to_note[index]\n",
        "        prediction_output.append(result)\n",
        "        pattern = list(pattern)\n",
        "        pattern.append(index)\n",
        "        pattern = pattern[1:len(pattern)]\n",
        "\n",
        "    print('Done')\n",
        "    return prediction_output"
      ],
      "execution_count": 0,
      "outputs": []
    },
    {
      "cell_type": "code",
      "metadata": {
        "id": "ssv8Xl1-sEMU",
        "colab_type": "code",
        "outputId": "7c240800-0433-4bc7-8d89-d54215f966b9",
        "colab": {
          "base_uri": "https://localhost:8080/",
          "height": 225
        }
      },
      "source": [
        "unique_char = len(set(notes))\n",
        "network_input, _ = Sequences(notes)\n",
        "pitchnames = sorted(set(item for item in notes))\n",
        "prediction_output = generate_notes(model, network_input, pitchnames, unique_char)"
      ],
      "execution_count": 31,
      "outputs": [
        {
          "output_type": "stream",
          "text": [
            "Generating\n",
            "10% Done\n",
            "20% Done\n",
            "30% Done\n",
            "40% Done\n",
            "50% Done\n",
            "60% Done\n",
            "70% Done\n",
            "80% Done\n",
            "90% Done\n",
            "100% Done\n",
            "Done\n"
          ],
          "name": "stdout"
        }
      ]
    },
    {
      "cell_type": "code",
      "metadata": {
        "id": "NTSkGWcHsEPY",
        "colab_type": "code",
        "colab": {}
      },
      "source": [
        "def create_midi(prediction_output):\n",
        "    offset = 0\n",
        "    output_notes = []\n",
        "    for pattern in prediction_output:\n",
        "        if ('.' in pattern) or pattern.isdigit():\n",
        "            notes_in_chord = pattern.split('.')\n",
        "            notes = []\n",
        "            for current_note in notes_in_chord:\n",
        "                new_note = note.Note(int(current_note))\n",
        "                new_note.storedInstrument = instrument.Piano()\n",
        "                notes.append(new_note)\n",
        "            new_chord = chord.Chord(notes)\n",
        "            new_chord.offset = offset\n",
        "            output_notes.append(new_chord)\n",
        "        elif pattern == \"Rest\":\n",
        "            new_note = note.Rest(pattern)\n",
        "            new_note.offset = offset\n",
        "            new_note.storedInstrument = instrument.Piano()\n",
        "            output_notes.append(new_note)\n",
        "        else:\n",
        "            new_note = note.Note(pattern)\n",
        "            new_note.offset = offset\n",
        "            new_note.storedInstrument = instrument.Piano()\n",
        "            output_notes.append(new_note)\n",
        "        offset += 0.5\n",
        "    midi_stream = stream.Stream(output_notes)\n",
        "    midi_stream.write('midi', fp='/content/drive/My Drive/output50Epochs10Songs.mid')\n",
        "    print('Output Saved as midi file')"
      ],
      "execution_count": 0,
      "outputs": []
    },
    {
      "cell_type": "code",
      "metadata": {
        "id": "oVYCC0lRApw4",
        "colab_type": "code",
        "colab": {
          "base_uri": "https://localhost:8080/",
          "height": 35
        },
        "outputId": "7e7055a0-03c4-40fe-ec12-6bc6e450d780"
      },
      "source": [
        "create_midi(prediction_output)"
      ],
      "execution_count": 33,
      "outputs": [
        {
          "output_type": "stream",
          "text": [
            "Output Saved as midi file\n"
          ],
          "name": "stdout"
        }
      ]
    },
    {
      "cell_type": "code",
      "metadata": {
        "id": "QZdOjMIsA4gq",
        "colab_type": "code",
        "colab": {}
      },
      "source": [
        ""
      ],
      "execution_count": 0,
      "outputs": []
    }
  ]
}